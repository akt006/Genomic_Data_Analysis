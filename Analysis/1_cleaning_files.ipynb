{
 "cells": [
  {
   "cell_type": "code",
   "execution_count": 7,
   "metadata": {},
   "outputs": [],
   "source": [
    "import pandas as pd\n",
    "\n",
    "df_public_HO = pd.read_csv(r'C:\\Users\\91735\\OneDrive\\Desktop\\freelance excel\\Fiverr\\Sachaat\\Files\\v54.1.p1_HO_public.txt', delimiter='\\t',low_memory=False)\n",
    "\n",
    "df_public_HO.to_csv('v54.1.p1_HO_public.csv', index=False)"
   ]
  },
  {
   "cell_type": "code",
   "execution_count": 10,
   "metadata": {},
   "outputs": [],
   "source": [
    "df_public_HO = pd.read_csv(r'C:\\Users\\91735\\OneDrive\\Desktop\\freelance excel\\Fiverr\\Sachaat\\Files\\v54.1.p1_HO_public (1).txt', delimiter='\\t',low_memory=False)\n",
    "\n",
    "df_public_HO.to_csv('v54.1.p1_HO_public (1).csv', index=False)"
   ]
  },
  {
   "cell_type": "code",
   "execution_count": 11,
   "metadata": {},
   "outputs": [
    {
     "name": "stdout",
     "output_type": "stream",
     "text": [
      "                  0   1         2             3\n",
      "0         rs3094315   1  0.020130    752566 G A\n",
      "1         rs7419119   1  0.022518    842013 T G\n",
      "2        rs13302957   1  0.024116    891021 G A\n",
      "3         rs6696609   1  0.024457    903426 C T\n",
      "4            rs8997   1  0.025727    949654 A G\n",
      "...             ...  ..       ...           ...\n",
      "597568    rs9786095  24         0  24359931 C T\n",
      "597569   rs67462087  24         0  24394612 A G\n",
      "597570    rs7893048  24         0  24444622 T C\n",
      "597571   rs73628929  24         0  24478403 A G\n",
      "597572  rs111621212  24         0  24505075 G T\n",
      "\n",
      "[597573 rows x 4 columns]\n"
     ]
    }
   ],
   "source": [
    "import pandas as pd\n",
    "import re\n",
    "\n",
    "# Define the path to your text file\n",
    "file_path = r'C:\\Users\\91735\\OneDrive\\Desktop\\freelance excel\\Fiverr\\Sachaat\\Files\\v54.1.p1_HO_public (1).txt'\n",
    "\n",
    "# Initialize a list to store the rows\n",
    "data_rows = []\n",
    "\n",
    "# Open and read the file line by line\n",
    "with open(file_path, 'r') as file:\n",
    "    for line in file:\n",
    "        # Use regex to split the line where there are 2 or more spaces\n",
    "        row_data = re.split(r'\\s{2,}', line.strip())\n",
    "        \n",
    "        # Append the split data as a new row in the data_rows list\n",
    "        data_rows.append(row_data)\n",
    "\n",
    "# Create a DataFrame from the processed data\n",
    "df_public_HO2 = pd.DataFrame(data_rows)\n",
    "\n",
    "# Display the DataFrame\n",
    "print(df_public_HO2)\n"
   ]
  },
  {
   "cell_type": "code",
   "execution_count": 13,
   "metadata": {},
   "outputs": [],
   "source": [
    "df_public_HO2.head(10)\n",
    "df_public_HO2.to_csv('v54.1.p1_HO_public (2).csv', index=False)"
   ]
  },
  {
   "cell_type": "code",
   "execution_count": 28,
   "metadata": {},
   "outputs": [
    {
     "name": "stdout",
     "output_type": "stream",
     "text": [
      "Failed with utf-8: 'utf-8' codec can't decode byte 0xff in position 0: invalid start byte\n",
      "Successfully read the file with utf-16 encoding\n"
     ]
    }
   ],
   "source": [
    "encodings = ['utf-8', 'utf-16']\n",
    "\n",
    "for encoding in encodings:\n",
    "    try:\n",
    "        df_chrY_infofile = pd.read_csv(r'C:\\Users\\91735\\OneDrive\\Desktop\\freelance excel\\Fiverr\\Sachaat\\Files\\chrY_infofile_text.txt', delimiter=';',encoding=encoding)\n",
    "        print(f\"Successfully read the file with {encoding} encoding\")\n",
    "        break\n",
    "    except Exception as e:\n",
    "        print(f\"Failed with {encoding}: {e}\")"
   ]
  },
  {
   "cell_type": "code",
   "execution_count": 26,
   "metadata": {},
   "outputs": [],
   "source": [
    "df_chrY_infofile.to_csv('chrY_infofile.csv', index=False)"
   ]
  },
  {
   "cell_type": "code",
   "execution_count": 24,
   "metadata": {},
   "outputs": [
    {
     "data": {
      "text/html": [
       "<div>\n",
       "<style scoped>\n",
       "    .dataframe tbody tr th:only-of-type {\n",
       "        vertical-align: middle;\n",
       "    }\n",
       "\n",
       "    .dataframe tbody tr th {\n",
       "        vertical-align: top;\n",
       "    }\n",
       "\n",
       "    .dataframe thead th {\n",
       "        text-align: right;\n",
       "    }\n",
       "</style>\n",
       "<table border=\"1\" class=\"dataframe\">\n",
       "  <thead>\n",
       "    <tr style=\"text-align: right;\">\n",
       "      <th></th>\n",
       "      <th>Genetic ID</th>\n",
       "      <th>Political Entity</th>\n",
       "      <th>Locality</th>\n",
       "      <th>Molecular Sex</th>\n",
       "      <th>Master ID</th>\n",
       "      <th>World Zone</th>\n",
       "      <th>Y haplogroup</th>\n",
       "      <th>mt haplogroup\\t\\t\\t\\t\\t\\t\\t\\t\\t\\t\\t\\t\\t\\t\\t\\t\\t\\t\\t\\t\\t\\t</th>\n",
       "    </tr>\n",
       "  </thead>\n",
       "  <tbody>\n",
       "    <tr>\n",
       "      <th>0</th>\n",
       "      <td>Ne30_genotyping_noUDG</td>\n",
       "      <td>China</td>\n",
       "      <td>Nepal\\t Kathmandu</td>\n",
       "      <td>M</td>\n",
       "      <td>NE30</td>\n",
       "      <td>Asia (E)</td>\n",
       "      <td>C</td>\n",
       "      <td>D4m\\t\\t\\t\\t\\t\\t\\t\\t\\t\\t\\t\\t\\t\\t\\t\\t\\t\\t\\t\\t\\t</td>\n",
       "    </tr>\n",
       "    <tr>\n",
       "      <th>1</th>\n",
       "      <td>Aconcagua_noUDG.SG</td>\n",
       "      <td>Argentina</td>\n",
       "      <td>Cerro Aconcagua\\t Mendoza Province</td>\n",
       "      <td>M</td>\n",
       "      <td>Aconcagua</td>\n",
       "      <td>America (S)</td>\n",
       "      <td>Q-M3</td>\n",
       "      <td>C1bi \\t\\t\\t\\t\\t\\t\\t\\t\\t\\t\\t\\t\\t\\t\\t\\t\\t\\t\\t\\t\\t</td>\n",
       "    </tr>\n",
       "    <tr>\n",
       "      <th>2</th>\n",
       "      <td>I1407</td>\n",
       "      <td>Armenia</td>\n",
       "      <td>Areni 1</td>\n",
       "      <td>M</td>\n",
       "      <td>I1407</td>\n",
       "      <td>Europe (E)</td>\n",
       "      <td>L1a</td>\n",
       "      <td>H\\t\\t\\t\\t\\t\\t\\t\\t\\t\\t\\t\\t\\t\\t\\t\\t\\t\\t\\t\\t\\t\\t</td>\n",
       "    </tr>\n",
       "    <tr>\n",
       "      <th>3</th>\n",
       "      <td>XAR001</td>\n",
       "      <td>Botswana</td>\n",
       "      <td>Xaro</td>\n",
       "      <td>M</td>\n",
       "      <td>XAR001</td>\n",
       "      <td>Africa (SC)</td>\n",
       "      <td>E1b1a1a1c1a</td>\n",
       "      <td>L3e1a2\\t\\t\\t\\t\\t\\t\\t\\t\\t\\t\\t\\t\\t\\t\\t\\t\\t\\t\\t\\t...</td>\n",
       "    </tr>\n",
       "    <tr>\n",
       "      <th>4</th>\n",
       "      <td>I16444</td>\n",
       "      <td>Channel Islands</td>\n",
       "      <td>Channel Islands\\t Guernsey\\t Vale\\t Le DÃ©hus</td>\n",
       "      <td>M</td>\n",
       "      <td>I16444</td>\n",
       "      <td>Europe (W)</td>\n",
       "      <td>I2a1a2</td>\n",
       "      <td>J1c1b1\\t\\t\\t\\t\\t\\t\\t\\t\\t\\t\\t\\t\\t\\t\\t\\t\\t\\t\\t</td>\n",
       "    </tr>\n",
       "    <tr>\n",
       "      <th>5</th>\n",
       "      <td>NE56_noUDG</td>\n",
       "      <td>China</td>\n",
       "      <td>Amur River Basin</td>\n",
       "      <td>M</td>\n",
       "      <td>NE56</td>\n",
       "      <td>Asia (E)</td>\n",
       "      <td>C2</td>\n",
       "      <td>G2\\t\\t\\t\\t\\t\\t\\t\\t\\t\\t\\t\\t\\t\\t\\t\\t\\t\\t\\t\\t\\t\\t</td>\n",
       "    </tr>\n",
       "    <tr>\n",
       "      <th>6</th>\n",
       "      <td>CAO011</td>\n",
       "      <td>Cuba</td>\n",
       "      <td>Matanzas City\\t Canimar Abajo</td>\n",
       "      <td>M</td>\n",
       "      <td>CAO011</td>\n",
       "      <td>America (C)</td>\n",
       "      <td>Q1b1a1a1</td>\n",
       "      <td>D1\\t\\t\\t\\t\\t\\t\\t\\t\\t\\t\\t\\t\\t\\t\\t\\t\\t\\t\\t\\t\\t</td>\n",
       "    </tr>\n",
       "    <tr>\n",
       "      <th>7</th>\n",
       "      <td>CAO014</td>\n",
       "      <td>Cuba</td>\n",
       "      <td>Matanzas City\\t Canimar Abajo</td>\n",
       "      <td>M</td>\n",
       "      <td>CAO014</td>\n",
       "      <td>America (C)</td>\n",
       "      <td>Q1b1a1a1</td>\n",
       "      <td>D1\\t\\t\\t\\t\\t\\t\\t\\t\\t\\t\\t\\t\\t\\t\\t\\t\\t\\t\\t\\t\\t</td>\n",
       "    </tr>\n",
       "    <tr>\n",
       "      <th>8</th>\n",
       "      <td>CAO017</td>\n",
       "      <td>Cuba</td>\n",
       "      <td>Matanzas City\\t Canimar Abajo</td>\n",
       "      <td>M</td>\n",
       "      <td>CAO017</td>\n",
       "      <td>America (C)</td>\n",
       "      <td>Q1b1a2</td>\n",
       "      <td>..\\t\\t\\t\\t\\t\\t\\t\\t\\t\\t\\t\\t\\t\\t\\t\\t\\t\\t\\t\\t\\t</td>\n",
       "    </tr>\n",
       "    <tr>\n",
       "      <th>9</th>\n",
       "      <td>CAO022026</td>\n",
       "      <td>Cuba</td>\n",
       "      <td>Matanzas City\\t Canimar Abajo</td>\n",
       "      <td>M</td>\n",
       "      <td>CAO022026</td>\n",
       "      <td>America (C)</td>\n",
       "      <td>Q1b1a1a1</td>\n",
       "      <td>C\\t\\t\\t\\t\\t\\t\\t\\t\\t\\t\\t\\t\\t\\t\\t\\t\\t\\t\\t\\t\\t</td>\n",
       "    </tr>\n",
       "  </tbody>\n",
       "</table>\n",
       "</div>"
      ],
      "text/plain": [
       "              Genetic ID Political Entity  \\\n",
       "0  Ne30_genotyping_noUDG            China   \n",
       "1     Aconcagua_noUDG.SG        Argentina   \n",
       "2                  I1407          Armenia   \n",
       "3                 XAR001         Botswana   \n",
       "4                 I16444  Channel Islands   \n",
       "5             NE56_noUDG            China   \n",
       "6                 CAO011             Cuba   \n",
       "7                 CAO014             Cuba   \n",
       "8                 CAO017             Cuba   \n",
       "9              CAO022026             Cuba   \n",
       "\n",
       "                                        Locality Molecular Sex  Master ID  \\\n",
       "0                              Nepal\\t Kathmandu             M       NE30   \n",
       "1             Cerro Aconcagua\\t Mendoza Province             M  Aconcagua   \n",
       "2                                        Areni 1             M      I1407   \n",
       "3                                           Xaro             M     XAR001   \n",
       "4  Channel Islands\\t Guernsey\\t Vale\\t Le DÃ©hus             M     I16444   \n",
       "5                               Amur River Basin             M       NE56   \n",
       "6                  Matanzas City\\t Canimar Abajo             M     CAO011   \n",
       "7                  Matanzas City\\t Canimar Abajo             M     CAO014   \n",
       "8                  Matanzas City\\t Canimar Abajo             M     CAO017   \n",
       "9                  Matanzas City\\t Canimar Abajo             M  CAO022026   \n",
       "\n",
       "    World Zone Y haplogroup  \\\n",
       "0     Asia (E)            C   \n",
       "1  America (S)         Q-M3   \n",
       "2   Europe (E)          L1a   \n",
       "3  Africa (SC)  E1b1a1a1c1a   \n",
       "4   Europe (W)       I2a1a2   \n",
       "5     Asia (E)           C2   \n",
       "6  America (C)     Q1b1a1a1   \n",
       "7  America (C)     Q1b1a1a1   \n",
       "8  America (C)       Q1b1a2   \n",
       "9  America (C)     Q1b1a1a1   \n",
       "\n",
       "  mt haplogroup\\t\\t\\t\\t\\t\\t\\t\\t\\t\\t\\t\\t\\t\\t\\t\\t\\t\\t\\t\\t\\t\\t  \n",
       "0      D4m\\t\\t\\t\\t\\t\\t\\t\\t\\t\\t\\t\\t\\t\\t\\t\\t\\t\\t\\t\\t\\t         \n",
       "1    C1bi \\t\\t\\t\\t\\t\\t\\t\\t\\t\\t\\t\\t\\t\\t\\t\\t\\t\\t\\t\\t\\t         \n",
       "2      H\\t\\t\\t\\t\\t\\t\\t\\t\\t\\t\\t\\t\\t\\t\\t\\t\\t\\t\\t\\t\\t\\t         \n",
       "3  L3e1a2\\t\\t\\t\\t\\t\\t\\t\\t\\t\\t\\t\\t\\t\\t\\t\\t\\t\\t\\t\\t...         \n",
       "4       J1c1b1\\t\\t\\t\\t\\t\\t\\t\\t\\t\\t\\t\\t\\t\\t\\t\\t\\t\\t\\t         \n",
       "5     G2\\t\\t\\t\\t\\t\\t\\t\\t\\t\\t\\t\\t\\t\\t\\t\\t\\t\\t\\t\\t\\t\\t         \n",
       "6       D1\\t\\t\\t\\t\\t\\t\\t\\t\\t\\t\\t\\t\\t\\t\\t\\t\\t\\t\\t\\t\\t         \n",
       "7       D1\\t\\t\\t\\t\\t\\t\\t\\t\\t\\t\\t\\t\\t\\t\\t\\t\\t\\t\\t\\t\\t         \n",
       "8       ..\\t\\t\\t\\t\\t\\t\\t\\t\\t\\t\\t\\t\\t\\t\\t\\t\\t\\t\\t\\t\\t         \n",
       "9        C\\t\\t\\t\\t\\t\\t\\t\\t\\t\\t\\t\\t\\t\\t\\t\\t\\t\\t\\t\\t\\t         "
      ]
     },
     "execution_count": 24,
     "metadata": {},
     "output_type": "execute_result"
    }
   ],
   "source": [
    "df_chrY_infofile.head(10)"
   ]
  },
  {
   "cell_type": "code",
   "execution_count": 29,
   "metadata": {},
   "outputs": [
    {
     "name": "stdout",
     "output_type": "stream",
     "text": [
      "Failed with utf-8: 'utf-8' codec can't decode byte 0xff in position 0: invalid start byte\n",
      "Successfully read the file with utf-16 encoding\n"
     ]
    }
   ],
   "source": [
    "encodings = ['utf-8', 'utf-16']\n",
    "\n",
    "for encoding in encodings:\n",
    "    try:\n",
    "        df_SNP_filtered = pd.read_csv(r'C:\\Users\\91735\\OneDrive\\Desktop\\freelance excel\\Fiverr\\Sachaat\\Files\\chrY_SNP_filtered.txt', delimiter=';',encoding=encoding,low_memory=False)\n",
    "        print(f\"Successfully read the file with {encoding} encoding\")\n",
    "        break\n",
    "    except Exception as e:\n",
    "        print(f\"Failed with {encoding}: {e}\")"
   ]
  },
  {
   "cell_type": "code",
   "execution_count": 30,
   "metadata": {},
   "outputs": [],
   "source": [
    "df_SNP_filtered.to_csv('chrY_SNP_filtered.csv', index=False)"
   ]
  },
  {
   "cell_type": "code",
   "execution_count": 1,
   "metadata": {},
   "outputs": [
    {
     "ename": "KeyboardInterrupt",
     "evalue": "",
     "output_type": "error",
     "traceback": [
      "\u001b[1;31m---------------------------------------------------------------------------\u001b[0m",
      "\u001b[1;31mKeyboardInterrupt\u001b[0m                         Traceback (most recent call last)",
      "Cell \u001b[1;32mIn[1], line 1\u001b[0m\n\u001b[1;32m----> 1\u001b[0m \u001b[38;5;28;01mimport\u001b[39;00m \u001b[38;5;21;01mnumpy\u001b[39;00m \u001b[38;5;28;01mas\u001b[39;00m \u001b[38;5;21;01mnp\u001b[39;00m\n\u001b[0;32m      2\u001b[0m \u001b[38;5;28;01mfrom\u001b[39;00m \u001b[38;5;21;01mgenetics\u001b[39;00m \u001b[38;5;28;01mimport\u001b[39;00m loadRawGenoFile, unpackfullgenofile, unpackAndFilterSNPs\n\u001b[0;32m      4\u001b[0m \u001b[38;5;66;03m# Load the .geno file\u001b[39;00m\n",
      "File \u001b[1;32mc:\\Users\\91735\\Anaconda3\\envs\\freelance\\Lib\\site-packages\\numpy\\__init__.py:149\u001b[0m\n\u001b[0;32m    147\u001b[0m \u001b[38;5;28;01mfrom\u001b[39;00m \u001b[38;5;21;01m.\u001b[39;00m \u001b[38;5;28;01mimport\u001b[39;00m exceptions\n\u001b[0;32m    148\u001b[0m \u001b[38;5;28;01mfrom\u001b[39;00m \u001b[38;5;21;01m.\u001b[39;00m \u001b[38;5;28;01mimport\u001b[39;00m dtypes\n\u001b[1;32m--> 149\u001b[0m \u001b[38;5;28;01mfrom\u001b[39;00m \u001b[38;5;21;01m.\u001b[39;00m \u001b[38;5;28;01mimport\u001b[39;00m lib\n\u001b[0;32m    150\u001b[0m \u001b[38;5;66;03m# NOTE: to be revisited following future namespace cleanup.\u001b[39;00m\n\u001b[0;32m    151\u001b[0m \u001b[38;5;66;03m# See gh-14454 and gh-15672 for discussion.\u001b[39;00m\n\u001b[0;32m    152\u001b[0m \u001b[38;5;28;01mfrom\u001b[39;00m \u001b[38;5;21;01m.\u001b[39;00m\u001b[38;5;21;01mlib\u001b[39;00m \u001b[38;5;28;01mimport\u001b[39;00m \u001b[38;5;241m*\u001b[39m\n",
      "File \u001b[1;32mc:\\Users\\91735\\Anaconda3\\envs\\freelance\\Lib\\site-packages\\numpy\\lib\\__init__.py:36\u001b[0m\n\u001b[0;32m     34\u001b[0m \u001b[38;5;28;01mfrom\u001b[39;00m \u001b[38;5;21;01m.\u001b[39;00m \u001b[38;5;28;01mimport\u001b[39;00m npyio\n\u001b[0;32m     35\u001b[0m \u001b[38;5;28;01mfrom\u001b[39;00m \u001b[38;5;21;01m.\u001b[39;00m \u001b[38;5;28;01mimport\u001b[39;00m arrayterator\n\u001b[1;32m---> 36\u001b[0m \u001b[38;5;28;01mfrom\u001b[39;00m \u001b[38;5;21;01m.\u001b[39;00m \u001b[38;5;28;01mimport\u001b[39;00m arraypad\n\u001b[0;32m     37\u001b[0m \u001b[38;5;28;01mfrom\u001b[39;00m \u001b[38;5;21;01m.\u001b[39;00m \u001b[38;5;28;01mimport\u001b[39;00m _version\n\u001b[0;32m     39\u001b[0m \u001b[38;5;28;01mfrom\u001b[39;00m \u001b[38;5;21;01m.\u001b[39;00m\u001b[38;5;21;01mtype_check\u001b[39;00m \u001b[38;5;28;01mimport\u001b[39;00m \u001b[38;5;241m*\u001b[39m\n",
      "File \u001b[1;32m<frozen importlib._bootstrap>:1176\u001b[0m, in \u001b[0;36m_find_and_load\u001b[1;34m(name, import_)\u001b[0m\n",
      "File \u001b[1;32m<frozen importlib._bootstrap>:1147\u001b[0m, in \u001b[0;36m_find_and_load_unlocked\u001b[1;34m(name, import_)\u001b[0m\n",
      "File \u001b[1;32m<frozen importlib._bootstrap>:690\u001b[0m, in \u001b[0;36m_load_unlocked\u001b[1;34m(spec)\u001b[0m\n",
      "File \u001b[1;32m<frozen importlib._bootstrap_external>:936\u001b[0m, in \u001b[0;36mexec_module\u001b[1;34m(self, module)\u001b[0m\n",
      "File \u001b[1;32m<frozen importlib._bootstrap_external>:1032\u001b[0m, in \u001b[0;36mget_code\u001b[1;34m(self, fullname)\u001b[0m\n",
      "File \u001b[1;32m<frozen importlib._bootstrap_external>:1130\u001b[0m, in \u001b[0;36mget_data\u001b[1;34m(self, path)\u001b[0m\n",
      "\u001b[1;31mKeyboardInterrupt\u001b[0m: "
     ]
    }
   ],
   "source": [
    "import numpy as np\n",
    "from genetics import loadRawGenoFile, unpackfullgenofile, unpackAndFilterSNPs\n",
    "\n",
    "# Load the .geno file\n",
    "geno, nind, nsnp, rlen = unpackfullgenofile(r'C:\\Users\\91735\\OneDrive\\Desktop\\freelance excel\\Fiverr\\Sachaat\\Files\\v54.1.p1_HO_public.geno')"
   ]
  }
 ],
 "metadata": {
  "kernelspec": {
   "display_name": "freelance",
   "language": "python",
   "name": "python3"
  },
  "language_info": {
   "codemirror_mode": {
    "name": "ipython",
    "version": 3
   },
   "file_extension": ".py",
   "mimetype": "text/x-python",
   "name": "python",
   "nbconvert_exporter": "python",
   "pygments_lexer": "ipython3",
   "version": "3.11.9"
  }
 },
 "nbformat": 4,
 "nbformat_minor": 2
}
